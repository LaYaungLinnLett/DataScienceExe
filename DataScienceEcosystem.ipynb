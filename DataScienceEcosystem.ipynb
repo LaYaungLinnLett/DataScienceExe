{
 "cells": [
  {
   "metadata": {},
   "cell_type": "markdown",
   "source": "# Data Science Tools and Ecosystem",
   "id": "bbae199426ba73d8"
  },
  {
   "metadata": {},
   "cell_type": "markdown",
   "source": "In this notebook, Data Science Tools and Ecosystem are summarized.",
   "id": "44b858da76d61996"
  },
  {
   "metadata": {},
   "cell_type": "markdown",
   "source": [
    "Some of the popular languages that Data Scientists use are:\n",
    "1. Python\n",
    "2. Julia\n",
    "3. R\n",
    "4. Java"
   ],
   "id": "1758b5877d972bef"
  },
  {
   "metadata": {},
   "cell_type": "markdown",
   "source": [
    "| Data Science Tools |\n",
    "|--------------------|\n",
    "| Jupyter Notebook   |\n",
    "| RStudio            |\n",
    "| Apache Zeppelin    |"
   ],
   "id": "8b401f7fed17b6e2"
  },
  {
   "metadata": {},
   "cell_type": "markdown",
   "source": "### Below are a few examples of evaluating arithmetic expressions in Python.",
   "id": "da1f6b66e34ca509"
  },
  {
   "metadata": {
    "ExecuteTime": {
     "end_time": "2025-07-18T10:54:40.488656Z",
     "start_time": "2025-07-18T10:54:40.484041Z"
    }
   },
   "cell_type": "code",
   "source": [
    "#This a simple arithmetic expression to mutiply then add integers\n",
    "(3*4)+5"
   ],
   "id": "8b81ce429606dce1",
   "outputs": [
    {
     "data": {
      "text/plain": [
       "17"
      ]
     },
     "execution_count": 2,
     "metadata": {},
     "output_type": "execute_result"
    }
   ],
   "execution_count": 2
  },
  {
   "metadata": {
    "ExecuteTime": {
     "end_time": "2025-07-18T11:13:37.307148Z",
     "start_time": "2025-07-18T11:13:37.302543Z"
    }
   },
   "cell_type": "code",
   "source": [
    "min = 200\n",
    "hour = min/60\n",
    "print('hour of 200 min = ', hour)"
   ],
   "id": "50de585ea1f9fc62",
   "outputs": [
    {
     "name": "stdout",
     "output_type": "stream",
     "text": [
      "hour of 200 min =  3.3333333333333335\n"
     ]
    }
   ],
   "execution_count": 8
  },
  {
   "metadata": {},
   "cell_type": "markdown",
   "source": [
    "**Objectives**\n",
    "- RStudio\n",
    "- Pycharm\n",
    "- VsCode"
   ],
   "id": "bbea7f92d8e01e97"
  },
  {
   "metadata": {},
   "cell_type": "markdown",
   "source": [
    "## Author\n",
    "Layaung Linnlett"
   ],
   "id": "d38f381489408685"
  },
  {
   "metadata": {},
   "cell_type": "markdown",
   "source": [
    "Some of the commonly used libraries used by Data Scientists include:\n",
    "1. Pandas\n",
    "2. Numpy\n",
    "3. Matplotlib"
   ],
   "id": "6eb0521425bd9f4f"
  },
  {
   "metadata": {},
   "cell_type": "code",
   "outputs": [],
   "execution_count": null,
   "source": "",
   "id": "e82596e4a8c0c2d7"
  }
 ],
 "metadata": {
  "kernelspec": {
   "display_name": "Python 3",
   "language": "python",
   "name": "python3"
  },
  "language_info": {
   "codemirror_mode": {
    "name": "ipython",
    "version": 2
   },
   "file_extension": ".py",
   "mimetype": "text/x-python",
   "name": "python",
   "nbconvert_exporter": "python",
   "pygments_lexer": "ipython2",
   "version": "2.7.6"
  }
 },
 "nbformat": 4,
 "nbformat_minor": 5
}
